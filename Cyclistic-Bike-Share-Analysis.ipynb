{
 "cells": [
  {
   "cell_type": "code",
   "execution_count": 1,
   "id": "059d990d",
   "metadata": {},
   "outputs": [],
   "source": [
    "import pandas as pd\n",
    "import numpy as np\n",
    "import seaborn as sns\n",
    "import matplotlib.pyplot as plt\n",
    "from datetime import datetime\n",
    "\n",
    "import warnings\n",
    "warnings.filterwarnings('ignore')"
   ]
  },
  {
   "cell_type": "markdown",
   "id": "5aec10e6",
   "metadata": {},
   "source": [
    "## PREPARE DATA"
   ]
  },
  {
   "cell_type": "code",
   "execution_count": 2,
   "id": "f693dc14",
   "metadata": {},
   "outputs": [],
   "source": [
    "# Read 12 csv files (from Jan to Dec of 2022)\n",
    "import glob\n",
    "import os\n",
    "\n",
    "folder_name = 'dataset'\n",
    "file_type = 'csv'\n",
    "seperator =','\n",
    "df = pd.concat([pd.read_csv(f, sep=seperator) for f in glob.glob(folder_name + \"/*.\"+file_type)], ignore_index=True)"
   ]
  },
  {
   "cell_type": "code",
   "execution_count": 3,
   "id": "a607cc01",
   "metadata": {},
   "outputs": [
    {
     "name": "stdout",
     "output_type": "stream",
     "text": [
      "<class 'pandas.core.frame.DataFrame'>\n",
      "RangeIndex: 5667717 entries, 0 to 5667716\n",
      "Data columns (total 13 columns):\n",
      " #   Column              Dtype  \n",
      "---  ------              -----  \n",
      " 0   ride_id             object \n",
      " 1   rideable_type       object \n",
      " 2   started_at          object \n",
      " 3   ended_at            object \n",
      " 4   start_station_name  object \n",
      " 5   start_station_id    object \n",
      " 6   end_station_name    object \n",
      " 7   end_station_id      object \n",
      " 8   start_lat           float64\n",
      " 9   start_lng           float64\n",
      " 10  end_lat             float64\n",
      " 11  end_lng             float64\n",
      " 12  member_casual       object \n",
      "dtypes: float64(4), object(9)\n",
      "memory usage: 562.1+ MB\n"
     ]
    }
   ],
   "source": [
    "df.info()"
   ]
  },
  {
   "cell_type": "code",
   "execution_count": 4,
   "id": "8322ca8c",
   "metadata": {},
   "outputs": [
    {
     "data": {
      "text/html": [
       "<div>\n",
       "<style scoped>\n",
       "    .dataframe tbody tr th:only-of-type {\n",
       "        vertical-align: middle;\n",
       "    }\n",
       "\n",
       "    .dataframe tbody tr th {\n",
       "        vertical-align: top;\n",
       "    }\n",
       "\n",
       "    .dataframe thead th {\n",
       "        text-align: right;\n",
       "    }\n",
       "</style>\n",
       "<table border=\"1\" class=\"dataframe\">\n",
       "  <thead>\n",
       "    <tr style=\"text-align: right;\">\n",
       "      <th></th>\n",
       "      <th>ride_id</th>\n",
       "      <th>rideable_type</th>\n",
       "      <th>started_at</th>\n",
       "      <th>ended_at</th>\n",
       "      <th>start_station_name</th>\n",
       "      <th>start_station_id</th>\n",
       "      <th>end_station_name</th>\n",
       "      <th>end_station_id</th>\n",
       "      <th>start_lat</th>\n",
       "      <th>start_lng</th>\n",
       "      <th>end_lat</th>\n",
       "      <th>end_lng</th>\n",
       "      <th>member_casual</th>\n",
       "    </tr>\n",
       "  </thead>\n",
       "  <tbody>\n",
       "    <tr>\n",
       "      <th>0</th>\n",
       "      <td>C2F7DD78E82EC875</td>\n",
       "      <td>electric_bike</td>\n",
       "      <td>2022-01-13 11:59:47</td>\n",
       "      <td>2022-01-13 12:02:44</td>\n",
       "      <td>Glenwood Ave &amp; Touhy Ave</td>\n",
       "      <td>525</td>\n",
       "      <td>Clark St &amp; Touhy Ave</td>\n",
       "      <td>RP-007</td>\n",
       "      <td>42.012800</td>\n",
       "      <td>-87.665906</td>\n",
       "      <td>42.012560</td>\n",
       "      <td>-87.674367</td>\n",
       "      <td>casual</td>\n",
       "    </tr>\n",
       "    <tr>\n",
       "      <th>1</th>\n",
       "      <td>A6CF8980A652D272</td>\n",
       "      <td>electric_bike</td>\n",
       "      <td>2022-01-10 08:41:56</td>\n",
       "      <td>2022-01-10 08:46:17</td>\n",
       "      <td>Glenwood Ave &amp; Touhy Ave</td>\n",
       "      <td>525</td>\n",
       "      <td>Clark St &amp; Touhy Ave</td>\n",
       "      <td>RP-007</td>\n",
       "      <td>42.012763</td>\n",
       "      <td>-87.665968</td>\n",
       "      <td>42.012560</td>\n",
       "      <td>-87.674367</td>\n",
       "      <td>casual</td>\n",
       "    </tr>\n",
       "    <tr>\n",
       "      <th>2</th>\n",
       "      <td>BD0F91DFF741C66D</td>\n",
       "      <td>classic_bike</td>\n",
       "      <td>2022-01-25 04:53:40</td>\n",
       "      <td>2022-01-25 04:58:01</td>\n",
       "      <td>Sheffield Ave &amp; Fullerton Ave</td>\n",
       "      <td>TA1306000016</td>\n",
       "      <td>Greenview Ave &amp; Fullerton Ave</td>\n",
       "      <td>TA1307000001</td>\n",
       "      <td>41.925602</td>\n",
       "      <td>-87.653708</td>\n",
       "      <td>41.925330</td>\n",
       "      <td>-87.665800</td>\n",
       "      <td>member</td>\n",
       "    </tr>\n",
       "    <tr>\n",
       "      <th>3</th>\n",
       "      <td>CBB80ED419105406</td>\n",
       "      <td>classic_bike</td>\n",
       "      <td>2022-01-04 00:18:04</td>\n",
       "      <td>2022-01-04 00:33:00</td>\n",
       "      <td>Clark St &amp; Bryn Mawr Ave</td>\n",
       "      <td>KA1504000151</td>\n",
       "      <td>Paulina St &amp; Montrose Ave</td>\n",
       "      <td>TA1309000021</td>\n",
       "      <td>41.983593</td>\n",
       "      <td>-87.669154</td>\n",
       "      <td>41.961507</td>\n",
       "      <td>-87.671387</td>\n",
       "      <td>casual</td>\n",
       "    </tr>\n",
       "    <tr>\n",
       "      <th>4</th>\n",
       "      <td>DDC963BFDDA51EEA</td>\n",
       "      <td>classic_bike</td>\n",
       "      <td>2022-01-20 01:31:10</td>\n",
       "      <td>2022-01-20 01:37:12</td>\n",
       "      <td>Michigan Ave &amp; Jackson Blvd</td>\n",
       "      <td>TA1309000002</td>\n",
       "      <td>State St &amp; Randolph St</td>\n",
       "      <td>TA1305000029</td>\n",
       "      <td>41.877850</td>\n",
       "      <td>-87.624080</td>\n",
       "      <td>41.884621</td>\n",
       "      <td>-87.627834</td>\n",
       "      <td>member</td>\n",
       "    </tr>\n",
       "  </tbody>\n",
       "</table>\n",
       "</div>"
      ],
      "text/plain": [
       "            ride_id  rideable_type           started_at             ended_at  \\\n",
       "0  C2F7DD78E82EC875  electric_bike  2022-01-13 11:59:47  2022-01-13 12:02:44   \n",
       "1  A6CF8980A652D272  electric_bike  2022-01-10 08:41:56  2022-01-10 08:46:17   \n",
       "2  BD0F91DFF741C66D   classic_bike  2022-01-25 04:53:40  2022-01-25 04:58:01   \n",
       "3  CBB80ED419105406   classic_bike  2022-01-04 00:18:04  2022-01-04 00:33:00   \n",
       "4  DDC963BFDDA51EEA   classic_bike  2022-01-20 01:31:10  2022-01-20 01:37:12   \n",
       "\n",
       "              start_station_name start_station_id  \\\n",
       "0       Glenwood Ave & Touhy Ave              525   \n",
       "1       Glenwood Ave & Touhy Ave              525   \n",
       "2  Sheffield Ave & Fullerton Ave     TA1306000016   \n",
       "3       Clark St & Bryn Mawr Ave     KA1504000151   \n",
       "4    Michigan Ave & Jackson Blvd     TA1309000002   \n",
       "\n",
       "                end_station_name end_station_id  start_lat  start_lng  \\\n",
       "0           Clark St & Touhy Ave         RP-007  42.012800 -87.665906   \n",
       "1           Clark St & Touhy Ave         RP-007  42.012763 -87.665968   \n",
       "2  Greenview Ave & Fullerton Ave   TA1307000001  41.925602 -87.653708   \n",
       "3      Paulina St & Montrose Ave   TA1309000021  41.983593 -87.669154   \n",
       "4         State St & Randolph St   TA1305000029  41.877850 -87.624080   \n",
       "\n",
       "     end_lat    end_lng member_casual  \n",
       "0  42.012560 -87.674367        casual  \n",
       "1  42.012560 -87.674367        casual  \n",
       "2  41.925330 -87.665800        member  \n",
       "3  41.961507 -87.671387        casual  \n",
       "4  41.884621 -87.627834        member  "
      ]
     },
     "execution_count": 4,
     "metadata": {},
     "output_type": "execute_result"
    }
   ],
   "source": [
    "df.head()"
   ]
  },
  {
   "cell_type": "code",
   "execution_count": 5,
   "id": "dd5983ba",
   "metadata": {
    "scrolled": true
   },
   "outputs": [
    {
     "name": "stdout",
     "output_type": "stream",
     "text": [
      "The dataset has 5667717 rows and 13 columns.\n"
     ]
    }
   ],
   "source": [
    "print('The dataset has', df.shape[0], 'rows and', df.shape[1], 'columns.')"
   ]
  },
  {
   "cell_type": "markdown",
   "id": "ae263ce1",
   "metadata": {},
   "source": [
    "## PROCESS DATA"
   ]
  },
  {
   "cell_type": "code",
   "execution_count": 6,
   "id": "5e0396fd",
   "metadata": {},
   "outputs": [
    {
     "name": "stdout",
     "output_type": "stream",
     "text": [
      "Shape before dropping duplicates (5667717, 13)\n",
      "Shape after dropping duplicates (5667717, 13)\n"
     ]
    }
   ],
   "source": [
    "# Check the data for duplicates\n",
    "print('Shape before dropping duplicates', df.shape)\n",
    "df = df.drop_duplicates()\n",
    "print('Shape after dropping duplicates', df.shape)"
   ]
  },
  {
   "cell_type": "markdown",
   "id": "fcc367c1",
   "metadata": {},
   "source": [
    "=> The data has no duplicates"
   ]
  },
  {
   "cell_type": "code",
   "execution_count": 7,
   "id": "eeaeeaf8",
   "metadata": {},
   "outputs": [
    {
     "name": "stdout",
     "output_type": "stream",
     "text": [
      "ride_id                    0\n",
      "rideable_type              0\n",
      "started_at                 0\n",
      "ended_at                   0\n",
      "start_station_name    833064\n",
      "start_station_id      833064\n",
      "end_station_name      892742\n",
      "end_station_id        892742\n",
      "start_lat                  0\n",
      "start_lng                  0\n",
      "end_lat                 5858\n",
      "end_lng                 5858\n",
      "member_casual              0\n",
      "dtype: int64 \n",
      "\n"
     ]
    }
   ],
   "source": [
    "# Check the data for missing values\n",
    "print(np.sum(df.isnull()), '\\n')"
   ]
  },
  {
   "cell_type": "markdown",
   "id": "2f1d7e06",
   "metadata": {},
   "source": [
    "=> There are lots of missing values at 6 columns named: **start_station_name, start_station_id, end_station_name, end_station_id, end_lat, end_lng**. However, they do not affect my analysis, so I will ignore them."
   ]
  },
  {
   "cell_type": "code",
   "execution_count": 8,
   "id": "6e78b4cc",
   "metadata": {},
   "outputs": [],
   "source": [
    "df = df.drop(['start_station_name', 'start_station_id', 'end_station_name',\n",
    "              'end_station_id', 'end_lat', 'end_lng'], axis=1)"
   ]
  },
  {
   "cell_type": "code",
   "execution_count": 9,
   "id": "8bdbcdf9",
   "metadata": {},
   "outputs": [],
   "source": [
    "# Convert string into datetime\n",
    "df['ended_at'] = df['ended_at'].astype('datetime64[ns]')\n",
    "df['started_at'] = df['started_at'].astype('datetime64[ns]')"
   ]
  },
  {
   "cell_type": "code",
   "execution_count": 10,
   "id": "af21c983",
   "metadata": {},
   "outputs": [],
   "source": [
    "# Create a column called 'ride_length'\n",
    "# Calculate the length of each ride by subtracting the column 'started_at' from the column 'ended_at'\n",
    "df['ride_length'] = df['ended_at'] - df['started_at']"
   ]
  },
  {
   "cell_type": "code",
   "execution_count": 11,
   "id": "6eb8b3d2",
   "metadata": {},
   "outputs": [],
   "source": [
    "# Create a column called 'ride_length_in_minutes'\n",
    "df['ride_length_in_minutes'] = df['ride_length'].dt.total_seconds().div(60).round(3)"
   ]
  },
  {
   "cell_type": "code",
   "execution_count": 12,
   "id": "c3a9700c",
   "metadata": {},
   "outputs": [],
   "source": [
    "# Create a column called 'day_of_week'\n",
    "# Calculate the day of the week that each ride started\n",
    "df['day_of_week'] = df['started_at'].dt.dayofweek"
   ]
  },
  {
   "cell_type": "code",
   "execution_count": 13,
   "id": "dc9e20c0",
   "metadata": {},
   "outputs": [],
   "source": [
    "# Create a column called 'day_name_of_week'\n",
    "df['day_name_of_week'] = df['started_at'].dt.day_name()"
   ]
  },
  {
   "cell_type": "code",
   "execution_count": 14,
   "id": "fa064e78",
   "metadata": {},
   "outputs": [],
   "source": [
    "# Create a column called 'month'\n",
    "df['month'] = df['started_at'].dt.month_name()"
   ]
  },
  {
   "cell_type": "code",
   "execution_count": 15,
   "id": "5dbd2663",
   "metadata": {},
   "outputs": [],
   "source": [
    "# Create a column called 'hour'\n",
    "df['hour'] = df['started_at'].dt.hour"
   ]
  },
  {
   "cell_type": "code",
   "execution_count": 16,
   "id": "df429a85",
   "metadata": {},
   "outputs": [
    {
     "data": {
      "text/html": [
       "<div>\n",
       "<style scoped>\n",
       "    .dataframe tbody tr th:only-of-type {\n",
       "        vertical-align: middle;\n",
       "    }\n",
       "\n",
       "    .dataframe tbody tr th {\n",
       "        vertical-align: top;\n",
       "    }\n",
       "\n",
       "    .dataframe thead th {\n",
       "        text-align: right;\n",
       "    }\n",
       "</style>\n",
       "<table border=\"1\" class=\"dataframe\">\n",
       "  <thead>\n",
       "    <tr style=\"text-align: right;\">\n",
       "      <th></th>\n",
       "      <th>ride_id</th>\n",
       "      <th>rideable_type</th>\n",
       "      <th>started_at</th>\n",
       "      <th>ended_at</th>\n",
       "      <th>start_lat</th>\n",
       "      <th>start_lng</th>\n",
       "      <th>member_casual</th>\n",
       "      <th>ride_length</th>\n",
       "      <th>ride_length_in_minutes</th>\n",
       "      <th>day_of_week</th>\n",
       "      <th>day_name_of_week</th>\n",
       "      <th>month</th>\n",
       "      <th>hour</th>\n",
       "    </tr>\n",
       "  </thead>\n",
       "  <tbody>\n",
       "    <tr>\n",
       "      <th>0</th>\n",
       "      <td>C2F7DD78E82EC875</td>\n",
       "      <td>electric_bike</td>\n",
       "      <td>2022-01-13 11:59:47</td>\n",
       "      <td>2022-01-13 12:02:44</td>\n",
       "      <td>42.012800</td>\n",
       "      <td>-87.665906</td>\n",
       "      <td>casual</td>\n",
       "      <td>00:02:57</td>\n",
       "      <td>2.950</td>\n",
       "      <td>3</td>\n",
       "      <td>Thursday</td>\n",
       "      <td>January</td>\n",
       "      <td>11</td>\n",
       "    </tr>\n",
       "    <tr>\n",
       "      <th>1</th>\n",
       "      <td>A6CF8980A652D272</td>\n",
       "      <td>electric_bike</td>\n",
       "      <td>2022-01-10 08:41:56</td>\n",
       "      <td>2022-01-10 08:46:17</td>\n",
       "      <td>42.012763</td>\n",
       "      <td>-87.665968</td>\n",
       "      <td>casual</td>\n",
       "      <td>00:04:21</td>\n",
       "      <td>4.350</td>\n",
       "      <td>0</td>\n",
       "      <td>Monday</td>\n",
       "      <td>January</td>\n",
       "      <td>8</td>\n",
       "    </tr>\n",
       "    <tr>\n",
       "      <th>2</th>\n",
       "      <td>BD0F91DFF741C66D</td>\n",
       "      <td>classic_bike</td>\n",
       "      <td>2022-01-25 04:53:40</td>\n",
       "      <td>2022-01-25 04:58:01</td>\n",
       "      <td>41.925602</td>\n",
       "      <td>-87.653708</td>\n",
       "      <td>member</td>\n",
       "      <td>00:04:21</td>\n",
       "      <td>4.350</td>\n",
       "      <td>1</td>\n",
       "      <td>Tuesday</td>\n",
       "      <td>January</td>\n",
       "      <td>4</td>\n",
       "    </tr>\n",
       "    <tr>\n",
       "      <th>3</th>\n",
       "      <td>CBB80ED419105406</td>\n",
       "      <td>classic_bike</td>\n",
       "      <td>2022-01-04 00:18:04</td>\n",
       "      <td>2022-01-04 00:33:00</td>\n",
       "      <td>41.983593</td>\n",
       "      <td>-87.669154</td>\n",
       "      <td>casual</td>\n",
       "      <td>00:14:56</td>\n",
       "      <td>14.933</td>\n",
       "      <td>1</td>\n",
       "      <td>Tuesday</td>\n",
       "      <td>January</td>\n",
       "      <td>0</td>\n",
       "    </tr>\n",
       "    <tr>\n",
       "      <th>4</th>\n",
       "      <td>DDC963BFDDA51EEA</td>\n",
       "      <td>classic_bike</td>\n",
       "      <td>2022-01-20 01:31:10</td>\n",
       "      <td>2022-01-20 01:37:12</td>\n",
       "      <td>41.877850</td>\n",
       "      <td>-87.624080</td>\n",
       "      <td>member</td>\n",
       "      <td>00:06:02</td>\n",
       "      <td>6.033</td>\n",
       "      <td>3</td>\n",
       "      <td>Thursday</td>\n",
       "      <td>January</td>\n",
       "      <td>1</td>\n",
       "    </tr>\n",
       "  </tbody>\n",
       "</table>\n",
       "</div>"
      ],
      "text/plain": [
       "            ride_id  rideable_type          started_at            ended_at  \\\n",
       "0  C2F7DD78E82EC875  electric_bike 2022-01-13 11:59:47 2022-01-13 12:02:44   \n",
       "1  A6CF8980A652D272  electric_bike 2022-01-10 08:41:56 2022-01-10 08:46:17   \n",
       "2  BD0F91DFF741C66D   classic_bike 2022-01-25 04:53:40 2022-01-25 04:58:01   \n",
       "3  CBB80ED419105406   classic_bike 2022-01-04 00:18:04 2022-01-04 00:33:00   \n",
       "4  DDC963BFDDA51EEA   classic_bike 2022-01-20 01:31:10 2022-01-20 01:37:12   \n",
       "\n",
       "   start_lat  start_lng member_casual ride_length  ride_length_in_minutes  \\\n",
       "0  42.012800 -87.665906        casual    00:02:57                   2.950   \n",
       "1  42.012763 -87.665968        casual    00:04:21                   4.350   \n",
       "2  41.925602 -87.653708        member    00:04:21                   4.350   \n",
       "3  41.983593 -87.669154        casual    00:14:56                  14.933   \n",
       "4  41.877850 -87.624080        member    00:06:02                   6.033   \n",
       "\n",
       "   day_of_week day_name_of_week    month  hour  \n",
       "0            3         Thursday  January    11  \n",
       "1            0           Monday  January     8  \n",
       "2            1          Tuesday  January     4  \n",
       "3            1          Tuesday  January     0  \n",
       "4            3         Thursday  January     1  "
      ]
     },
     "execution_count": 16,
     "metadata": {},
     "output_type": "execute_result"
    }
   ],
   "source": [
    "df.head().sort_values(by='month', ascending=True)"
   ]
  },
  {
   "cell_type": "markdown",
   "id": "620a7baf",
   "metadata": {},
   "source": [
    "# ANALYZE"
   ]
  },
  {
   "cell_type": "markdown",
   "id": "ca77ab63",
   "metadata": {},
   "source": [
    "### Check 'ride_length' and 'ride_length_in_minutes'"
   ]
  },
  {
   "cell_type": "code",
   "execution_count": 17,
   "id": "8fae989c",
   "metadata": {},
   "outputs": [
    {
     "data": {
      "text/plain": [
       "count                   5667717\n",
       "mean     0 days 00:19:26.597144\n",
       "std      0 days 02:56:07.687857\n",
       "min           -8 days +19:26:39\n",
       "25%             0 days 00:05:49\n",
       "50%             0 days 00:10:17\n",
       "75%             0 days 00:18:28\n",
       "max            28 days 17:47:15\n",
       "Name: ride_length, dtype: object"
      ]
     },
     "execution_count": 17,
     "metadata": {},
     "output_type": "execute_result"
    }
   ],
   "source": [
    "# Check 'ride_length' and 'ride_length_in_minutes'\n",
    "df['ride_length'].describe()"
   ]
  },
  {
   "cell_type": "code",
   "execution_count": 18,
   "id": "2f7c8196",
   "metadata": {},
   "outputs": [
    {
     "data": {
      "text/plain": [
       "count    5667717.000000\n",
       "mean          19.443286\n",
       "std          176.128131\n",
       "min       -10353.350000\n",
       "25%            5.817000\n",
       "50%           10.283000\n",
       "75%           18.467000\n",
       "max        41387.250000\n",
       "Name: ride_length_in_minutes, dtype: object"
      ]
     },
     "execution_count": 18,
     "metadata": {},
     "output_type": "execute_result"
    }
   ],
   "source": [
    "df['ride_length_in_minutes'].describe().apply(lambda x: format(x, 'f'))"
   ]
  },
  {
   "cell_type": "code",
   "execution_count": 19,
   "id": "f7a8eda8",
   "metadata": {},
   "outputs": [
    {
     "name": "stdout",
     "output_type": "stream",
     "text": [
      "Max of ride_length: 28 days 17:47:15 ~ 41387.25 mins\n",
      "Min of ride_length: -8 days +19:26:39 ~ -10353.35 mins\n",
      "Mean of ride_length: 0 days 00:19:26.597144 ~ 19.443285583948505 mins\n",
      "Mode of ride_length: 0   00:05:23\n",
      "dtype: timedelta64[ns] ~ 0    5.383\n",
      "dtype: float64 mins\n",
      "Median of ride_length: 0 days 00:10:17 ~ 10.283 mins\n"
     ]
    }
   ],
   "source": [
    "print('Max of ride_length:', max(df['ride_length']), '~', max(df['ride_length_in_minutes']), 'mins')\n",
    "print('Min of ride_length:', min(df['ride_length']), '~', min(df['ride_length_in_minutes']), 'mins')\n",
    "print('Mean of ride_length:', df['ride_length'].mean(), '~', df['ride_length_in_minutes'].mean(), 'mins')\n",
    "print('Mode of ride_length:', df['ride_length'].mode(), '~', df['ride_length_in_minutes'].mode(), 'mins')\n",
    "print('Median of ride_length:', df['ride_length'].median(), '~', df['ride_length_in_minutes'].median(), 'mins')"
   ]
  },
  {
   "cell_type": "markdown",
   "id": "6ca5a7a1",
   "metadata": {},
   "source": [
    "### The Number"
   ]
  },
  {
   "cell_type": "markdown",
   "id": "9933b194",
   "metadata": {},
   "source": [
    "**(1) Number of Casual Riders Vs. Number of Annual Members**"
   ]
  },
  {
   "cell_type": "code",
   "execution_count": 20,
   "id": "ba11b071",
   "metadata": {},
   "outputs": [
    {
     "data": {
      "image/png": "[encoded data removed]",
      "text/plain": [
       "<Figure size 576x432 with 1 Axes>"
      ]
     },
     "metadata": {
      "needs_background": "light"
     },
     "output_type": "display_data"
    }
   ],
   "source": [
    "df_1 = df.groupby(['member_casual']).member_casual.count()\n",
    "plt.figure(figsize=(8,6))\n",
    "df_1.plot.bar(color=['pink', 'mediumvioletred'], title='Number of Casual Riders Vs. Number of Annual Members in 2022')\n",
    "plt.xlabel('Segments')\n",
    "plt.ylabel('Count');"
   ]
  },
  {
   "cell_type": "code",
   "execution_count": 21,
   "id": "c1692d4c",
   "metadata": {},
   "outputs": [
    {
     "data": {
      "text/plain": [
       "member_casual\n",
       "casual    2322032\n",
       "member    3345685\n",
       "Name: member_casual, dtype: int64"
      ]
     },
     "execution_count": 21,
     "metadata": {},
     "output_type": "execute_result"
    }
   ],
   "source": [
    "df_1"
   ]
  },
  {
   "cell_type": "markdown",
   "id": "a5df7d81",
   "metadata": {},
   "source": [
    "=> The total number of ANNUAL MEMBERS is higher than CASUAL RIDERS in 2022"
   ]
  },
  {
   "cell_type": "markdown",
   "id": "480bcbe7",
   "metadata": {},
   "source": [
    "**(2) Number of Casual Riders Vs. Number of Annual Members by Bike Types**"
   ]
  },
  {
   "cell_type": "code",
   "execution_count": 22,
   "id": "02006df2",
   "metadata": {},
   "outputs": [
    {
     "data": {
      "text/html": [
       "<div>\n",
       "<style scoped>\n",
       "    .dataframe tbody tr th:only-of-type {\n",
       "        vertical-align: middle;\n",
       "    }\n",
       "\n",
       "    .dataframe tbody tr th {\n",
       "        vertical-align: top;\n",
       "    }\n",
       "\n",
       "    .dataframe thead th {\n",
       "        text-align: right;\n",
       "    }\n",
       "</style>\n",
       "<table border=\"1\" class=\"dataframe\">\n",
       "  <thead>\n",
       "    <tr style=\"text-align: right;\">\n",
       "      <th>rideable_type</th>\n",
       "      <th>classic_bike</th>\n",
       "      <th>docked_bike</th>\n",
       "      <th>electric_bike</th>\n",
       "    </tr>\n",
       "    <tr>\n",
       "      <th>member_casual</th>\n",
       "      <th></th>\n",
       "      <th></th>\n",
       "      <th></th>\n",
       "    </tr>\n",
       "  </thead>\n",
       "  <tbody>\n",
       "    <tr>\n",
       "      <th>casual</th>\n",
       "      <td>891459.0</td>\n",
       "      <td>177474.0</td>\n",
       "      <td>1253099.0</td>\n",
       "    </tr>\n",
       "    <tr>\n",
       "      <th>member</th>\n",
       "      <td>1709755.0</td>\n",
       "      <td>0.0</td>\n",
       "      <td>1635930.0</td>\n",
       "    </tr>\n",
       "  </tbody>\n",
       "</table>\n",
       "</div>"
      ],
      "text/plain": [
       "rideable_type  classic_bike  docked_bike  electric_bike\n",
       "member_casual                                          \n",
       "casual             891459.0     177474.0      1253099.0\n",
       "member            1709755.0          0.0      1635930.0"
      ]
     },
     "execution_count": 22,
     "metadata": {},
     "output_type": "execute_result"
    }
   ],
   "source": [
    "# Create pivot table by bike types\n",
    "df_pivot_1 = pd.pivot_table(df, values='ride_id', index='member_casual', columns='rideable_type',\n",
    "                          aggfunc='count')\n",
    "df_pivot_1.fillna(0)"
   ]
  },
  {
   "cell_type": "code",
   "execution_count": 23,
   "id": "6ec445ff",
   "metadata": {},
   "outputs": [
    {
     "data": {
      "image/png": "[encoded data removed]",
      "text/plain": [
       "<Figure size 720x432 with 1 Axes>"
      ]
     },
     "metadata": {
      "needs_background": "light"
     },
     "output_type": "display_data"
    }
   ],
   "source": [
    "# Visualization\n",
    "plt.figure(figsize=(10,6))\n",
    "sns.countplot(x='rideable_type', data=df, hue='member_casual', palette='RdPu')\n",
    "plt.title('Number of Casual Riders Vs. Number of Annual Members by Bike Types in 2022')\n",
    "plt.xlabel('Bike Types')\n",
    "plt.ylabel('Count');"
   ]
  },
  {
   "cell_type": "markdown",
   "id": "0dfca368",
   "metadata": {},
   "source": [
    "=>\n",
    "- There is no ANNUAL MEMBERS using 'docked_bike'\n",
    "- ANNUAL MEMBERS prefer using 'classic_bike'\n",
    "- CASUAL RIDERS prefer using 'electric_bike'"
   ]
  },
  {
   "cell_type": "markdown",
   "id": "7ecbee27",
   "metadata": {},
   "source": [
    "**(3) Number of Casual Riders Vs. Number of Annual Members by Weekdays**"
   ]
  },
  {
   "cell_type": "code",
   "execution_count": 24,
   "id": "c9988f99",
   "metadata": {},
   "outputs": [
    {
     "data": {
      "text/html": [
       "<div>\n",
       "<style scoped>\n",
       "    .dataframe tbody tr th:only-of-type {\n",
       "        vertical-align: middle;\n",
       "    }\n",
       "\n",
       "    .dataframe tbody tr th {\n",
       "        vertical-align: top;\n",
       "    }\n",
       "\n",
       "    .dataframe thead th {\n",
       "        text-align: right;\n",
       "    }\n",
       "</style>\n",
       "<table border=\"1\" class=\"dataframe\">\n",
       "  <thead>\n",
       "    <tr style=\"text-align: right;\">\n",
       "      <th>day_name_of_week</th>\n",
       "      <th>Friday</th>\n",
       "      <th>Monday</th>\n",
       "      <th>Saturday</th>\n",
       "      <th>Sunday</th>\n",
       "      <th>Thursday</th>\n",
       "      <th>Tuesday</th>\n",
       "      <th>Wednesday</th>\n",
       "    </tr>\n",
       "    <tr>\n",
       "      <th>member_casual</th>\n",
       "      <th></th>\n",
       "      <th></th>\n",
       "      <th></th>\n",
       "      <th></th>\n",
       "      <th></th>\n",
       "      <th></th>\n",
       "      <th></th>\n",
       "    </tr>\n",
       "  </thead>\n",
       "  <tbody>\n",
       "    <tr>\n",
       "      <th>casual</th>\n",
       "      <td>334701</td>\n",
       "      <td>277675</td>\n",
       "      <td>473190</td>\n",
       "      <td>389036</td>\n",
       "      <td>309330</td>\n",
       "      <td>263746</td>\n",
       "      <td>274354</td>\n",
       "    </tr>\n",
       "    <tr>\n",
       "      <th>member</th>\n",
       "      <td>467086</td>\n",
       "      <td>473339</td>\n",
       "      <td>443281</td>\n",
       "      <td>387223</td>\n",
       "      <td>532261</td>\n",
       "      <td>518626</td>\n",
       "      <td>523869</td>\n",
       "    </tr>\n",
       "  </tbody>\n",
       "</table>\n",
       "</div>"
      ],
      "text/plain": [
       "day_name_of_week  Friday  Monday  Saturday  Sunday  Thursday  Tuesday  \\\n",
       "member_casual                                                           \n",
       "casual            334701  277675    473190  389036    309330   263746   \n",
       "member            467086  473339    443281  387223    532261   518626   \n",
       "\n",
       "day_name_of_week  Wednesday  \n",
       "member_casual                \n",
       "casual               274354  \n",
       "member               523869  "
      ]
     },
     "execution_count": 24,
     "metadata": {},
     "output_type": "execute_result"
    }
   ],
   "source": [
    "# Create pivot table by weekdays\n",
    "df_pivot_2 = pd.pivot_table(df, values='ride_id', index='member_casual', columns='day_name_of_week',\n",
    "                          aggfunc='count')\n",
    "df_pivot_2"
   ]
  },
  {
   "cell_type": "code",
   "execution_count": 25,
   "id": "f23655bd",
   "metadata": {},
   "outputs": [
    {
     "data": {
      "image/png": "[encoded data removed]",
      "text/plain": [
       "<Figure size 720x432 with 1 Axes>"
      ]
     },
     "metadata": {
      "needs_background": "light"
     },
     "output_type": "display_data"
    }
   ],
   "source": [
    "# Visualization\n",
    "plt.figure(figsize=(10,6))\n",
    "sns.countplot(x='day_name_of_week', data=df, hue='member_casual', palette='RdPu')\n",
    "plt.title('Number of Casual Riders Vs. Number of Annual Members by Weekdays in 2022')\n",
    "plt.xlabel('Weekdays')\n",
    "plt.ylabel('Count');"
   ]
  },
  {
   "cell_type": "markdown",
   "id": "72217c46",
   "metadata": {},
   "source": [
    "=> The number of ANNUAL MEMBERS is higher than CASUAL RIDERS by weekdays except Saturday and Sunday in 2022"
   ]
  },
  {
   "cell_type": "markdown",
   "id": "293b0b62",
   "metadata": {},
   "source": [
    "**(4) Number of Casual Riders Vs. Number of Annual Members by Months**"
   ]
  },
  {
   "cell_type": "code",
   "execution_count": 26,
   "id": "0af6bf04",
   "metadata": {},
   "outputs": [
    {
     "data": {
      "text/html": [
       "<div>\n",
       "<style scoped>\n",
       "    .dataframe tbody tr th:only-of-type {\n",
       "        vertical-align: middle;\n",
       "    }\n",
       "\n",
       "    .dataframe tbody tr th {\n",
       "        vertical-align: top;\n",
       "    }\n",
       "\n",
       "    .dataframe thead th {\n",
       "        text-align: right;\n",
       "    }\n",
       "</style>\n",
       "<table border=\"1\" class=\"dataframe\">\n",
       "  <thead>\n",
       "    <tr style=\"text-align: right;\">\n",
       "      <th>month</th>\n",
       "      <th>April</th>\n",
       "      <th>August</th>\n",
       "      <th>December</th>\n",
       "      <th>February</th>\n",
       "      <th>January</th>\n",
       "      <th>July</th>\n",
       "      <th>June</th>\n",
       "      <th>March</th>\n",
       "      <th>May</th>\n",
       "      <th>November</th>\n",
       "      <th>October</th>\n",
       "      <th>September</th>\n",
       "    </tr>\n",
       "    <tr>\n",
       "      <th>member_casual</th>\n",
       "      <th></th>\n",
       "      <th></th>\n",
       "      <th></th>\n",
       "      <th></th>\n",
       "      <th></th>\n",
       "      <th></th>\n",
       "      <th></th>\n",
       "      <th></th>\n",
       "      <th></th>\n",
       "      <th></th>\n",
       "      <th></th>\n",
       "      <th></th>\n",
       "    </tr>\n",
       "  </thead>\n",
       "  <tbody>\n",
       "    <tr>\n",
       "      <th>casual</th>\n",
       "      <td>126417</td>\n",
       "      <td>358924</td>\n",
       "      <td>44894</td>\n",
       "      <td>21416</td>\n",
       "      <td>18520</td>\n",
       "      <td>406055</td>\n",
       "      <td>369051</td>\n",
       "      <td>89882</td>\n",
       "      <td>280415</td>\n",
       "      <td>100772</td>\n",
       "      <td>208989</td>\n",
       "      <td>296697</td>\n",
       "    </tr>\n",
       "    <tr>\n",
       "      <th>member</th>\n",
       "      <td>244832</td>\n",
       "      <td>427008</td>\n",
       "      <td>136912</td>\n",
       "      <td>94193</td>\n",
       "      <td>85250</td>\n",
       "      <td>417433</td>\n",
       "      <td>400153</td>\n",
       "      <td>194160</td>\n",
       "      <td>354443</td>\n",
       "      <td>236963</td>\n",
       "      <td>349696</td>\n",
       "      <td>404642</td>\n",
       "    </tr>\n",
       "  </tbody>\n",
       "</table>\n",
       "</div>"
      ],
      "text/plain": [
       "month           April  August  December  February  January    July    June  \\\n",
       "member_casual                                                                \n",
       "casual         126417  358924     44894     21416    18520  406055  369051   \n",
       "member         244832  427008    136912     94193    85250  417433  400153   \n",
       "\n",
       "month           March     May  November  October  September  \n",
       "member_casual                                                \n",
       "casual          89882  280415    100772   208989     296697  \n",
       "member         194160  354443    236963   349696     404642  "
      ]
     },
     "execution_count": 26,
     "metadata": {},
     "output_type": "execute_result"
    }
   ],
   "source": [
    "# Create pivot table by months\n",
    "df_pivot_3 = pd.pivot_table(df, values='ride_id', index='member_casual', columns='month',\n",
    "                          aggfunc='count')\n",
    "df_pivot_3"
   ]
  },
  {
   "cell_type": "code",
   "execution_count": 27,
   "id": "af5eed43",
   "metadata": {},
   "outputs": [
    {
     "data": {
      "image/png": "[encoded data removed]",
      "text/plain": [
       "<Figure size 864x432 with 1 Axes>"
      ]
     },
     "metadata": {
      "needs_background": "light"
     },
     "output_type": "display_data"
    }
   ],
   "source": [
    "# Visualization\n",
    "plt.figure(figsize=(12,6))\n",
    "sns.countplot(x='month', data=df, hue='member_casual', palette='RdPu')\n",
    "plt.title('Number of Casual Riders Vs. Number of Annual Members by Months in 2022')\n",
    "plt.xlabel('Months')\n",
    "plt.ylabel('Count');"
   ]
  },
  {
   "cell_type": "markdown",
   "id": "e509b621",
   "metadata": {},
   "source": [
    "=> \n",
    "- The number of ANNUAL MEMBERS is higher than CASUAL RIDERS by months in 2022\n",
    "- The highest number of ANNUAL MEMBERS is August\n",
    "- The highest number of CASUAL RIDERS is July"
   ]
  },
  {
   "cell_type": "markdown",
   "id": "2e742972",
   "metadata": {},
   "source": [
    "### The Average"
   ]
  },
  {
   "cell_type": "markdown",
   "id": "53f33d53",
   "metadata": {},
   "source": [
    "**(5) Average of Casual Riders Vs. Average of Annual Members**"
   ]
  },
  {
   "cell_type": "code",
   "execution_count": 28,
   "id": "59134661",
   "metadata": {},
   "outputs": [
    {
     "data": {
      "image/png": "[encoded data removed]",
      "text/plain": [
       "<Figure size 576x432 with 1 Axes>"
      ]
     },
     "metadata": {
      "needs_background": "light"
     },
     "output_type": "display_data"
    }
   ],
   "source": [
    "# Visualization\n",
    "df_2 = df.groupby(['member_casual']).ride_length_in_minutes.mean()\n",
    "plt.figure(figsize=(8,6))\n",
    "df_2.plot.bar(color=['pink', 'mediumvioletred'], title='Average of Casual Riders Vs. Average of Annual Members in 2022')\n",
    "plt.xlabel('Segments')\n",
    "plt.ylabel('Average');"
   ]
  },
  {
   "cell_type": "code",
   "execution_count": 29,
   "id": "6890c5da",
   "metadata": {},
   "outputs": [
    {
     "data": {
      "text/plain": [
       "member_casual\n",
       "casual    29.144294\n",
       "member    12.710419\n",
       "Name: ride_length_in_minutes, dtype: float64"
      ]
     },
     "execution_count": 29,
     "metadata": {},
     "output_type": "execute_result"
    }
   ],
   "source": [
    "df_2"
   ]
  },
  {
   "cell_type": "markdown",
   "id": "20d92789",
   "metadata": {},
   "source": [
    "=> The average of ride length of CASUAL RIDERS is higher than ANNUAL MEMBERS in 2022"
   ]
  },
  {
   "cell_type": "markdown",
   "id": "4445ba04",
   "metadata": {},
   "source": [
    "**(6) Average of Casual Riders Vs. Average of Annual Members by Bike Types**"
   ]
  },
  {
   "cell_type": "code",
   "execution_count": 30,
   "id": "4d48a8b7",
   "metadata": {},
   "outputs": [
    {
     "data": {
      "text/html": [
       "<div>\n",
       "<style scoped>\n",
       "    .dataframe tbody tr th:only-of-type {\n",
       "        vertical-align: middle;\n",
       "    }\n",
       "\n",
       "    .dataframe tbody tr th {\n",
       "        vertical-align: top;\n",
       "    }\n",
       "\n",
       "    .dataframe thead th {\n",
       "        text-align: right;\n",
       "    }\n",
       "</style>\n",
       "<table border=\"1\" class=\"dataframe\">\n",
       "  <thead>\n",
       "    <tr style=\"text-align: right;\">\n",
       "      <th>rideable_type</th>\n",
       "      <th>classic_bike</th>\n",
       "      <th>docked_bike</th>\n",
       "      <th>electric_bike</th>\n",
       "    </tr>\n",
       "    <tr>\n",
       "      <th>member_casual</th>\n",
       "      <th></th>\n",
       "      <th></th>\n",
       "      <th></th>\n",
       "    </tr>\n",
       "  </thead>\n",
       "  <tbody>\n",
       "    <tr>\n",
       "      <th>casual</th>\n",
       "      <td>28.750932</td>\n",
       "      <td>122.711549</td>\n",
       "      <td>16.172383</td>\n",
       "    </tr>\n",
       "    <tr>\n",
       "      <th>member</th>\n",
       "      <td>13.910910</td>\n",
       "      <td>0.000000</td>\n",
       "      <td>11.455752</td>\n",
       "    </tr>\n",
       "  </tbody>\n",
       "</table>\n",
       "</div>"
      ],
      "text/plain": [
       "rideable_type  classic_bike  docked_bike  electric_bike\n",
       "member_casual                                          \n",
       "casual            28.750932   122.711549      16.172383\n",
       "member            13.910910     0.000000      11.455752"
      ]
     },
     "execution_count": 30,
     "metadata": {},
     "output_type": "execute_result"
    }
   ],
   "source": [
    "# Create pivot table by weekdays\n",
    "df_pivot_4 = pd.pivot_table(df, values='ride_length_in_minutes', index='member_casual', columns='rideable_type',\n",
    "                          aggfunc='mean')\n",
    "df_pivot_4.fillna(0)"
   ]
  },
  {
   "cell_type": "code",
   "execution_count": 34,
   "id": "7a717027",
   "metadata": {},
   "outputs": [
    {
     "data": {
      "image/png": "[encoded data removed]",
      "text/plain": [
       "<Figure size 864x432 with 1 Axes>"
      ]
     },
     "metadata": {
      "needs_background": "light"
     },
     "output_type": "display_data"
    }
   ],
   "source": [
    "# Visualization\n",
    "plt.figure(figsize=(12,6))\n",
    "sns.barplot(data=df, x='rideable_type', y='ride_length_in_minutes', hue='member_casual', palette='RdPu', ci=None)\n",
    "plt.title('Average of Casual Riders Vs. Average of Annual Members by Weekdays in 2022')\n",
    "plt.xlabel('Bike Types')\n",
    "plt.ylabel('Average');"
   ]
  },
  {
   "cell_type": "markdown",
   "id": "8d558c60",
   "metadata": {},
   "source": [
    "=>\n",
    "- There is no ANNUAL MEMBERS using 'docked_bike'\n",
    "- The maximum ride length of ANNUAL MEMBERS is 13.91 minutes with 'classic_bike'\n",
    "- The maximum ride length of CASUAL RIDERS is 122.71 minutes with 'docked_bike'"
   ]
  },
  {
   "cell_type": "markdown",
   "id": "f2e48131",
   "metadata": {},
   "source": [
    "**(7) Average of Casual Riders Vs. Average of Annual Members by Weekdays**"
   ]
  },
  {
   "cell_type": "code",
   "execution_count": 35,
   "id": "70449e8d",
   "metadata": {},
   "outputs": [
    {
     "data": {
      "text/html": [
       "<div>\n",
       "<style scoped>\n",
       "    .dataframe tbody tr th:only-of-type {\n",
       "        vertical-align: middle;\n",
       "    }\n",
       "\n",
       "    .dataframe tbody tr th {\n",
       "        vertical-align: top;\n",
       "    }\n",
       "\n",
       "    .dataframe thead th {\n",
       "        text-align: right;\n",
       "    }\n",
       "</style>\n",
       "<table border=\"1\" class=\"dataframe\">\n",
       "  <thead>\n",
       "    <tr style=\"text-align: right;\">\n",
       "      <th>day_name_of_week</th>\n",
       "      <th>Friday</th>\n",
       "      <th>Monday</th>\n",
       "      <th>Saturday</th>\n",
       "      <th>Sunday</th>\n",
       "      <th>Thursday</th>\n",
       "      <th>Tuesday</th>\n",
       "      <th>Wednesday</th>\n",
       "    </tr>\n",
       "    <tr>\n",
       "      <th>member_casual</th>\n",
       "      <th></th>\n",
       "      <th></th>\n",
       "      <th></th>\n",
       "      <th></th>\n",
       "      <th></th>\n",
       "      <th></th>\n",
       "      <th></th>\n",
       "    </tr>\n",
       "  </thead>\n",
       "  <tbody>\n",
       "    <tr>\n",
       "      <th>casual</th>\n",
       "      <td>28.043991</td>\n",
       "      <td>29.186939</td>\n",
       "      <td>32.613711</td>\n",
       "      <td>34.053443</td>\n",
       "      <td>25.547652</td>\n",
       "      <td>25.818409</td>\n",
       "      <td>24.750845</td>\n",
       "    </tr>\n",
       "    <tr>\n",
       "      <th>member</th>\n",
       "      <td>12.530686</td>\n",
       "      <td>12.269995</td>\n",
       "      <td>14.139806</td>\n",
       "      <td>14.029136</td>\n",
       "      <td>12.292261</td>\n",
       "      <td>12.128743</td>\n",
       "      <td>12.085079</td>\n",
       "    </tr>\n",
       "  </tbody>\n",
       "</table>\n",
       "</div>"
      ],
      "text/plain": [
       "day_name_of_week     Friday     Monday   Saturday     Sunday   Thursday  \\\n",
       "member_casual                                                             \n",
       "casual            28.043991  29.186939  32.613711  34.053443  25.547652   \n",
       "member            12.530686  12.269995  14.139806  14.029136  12.292261   \n",
       "\n",
       "day_name_of_week    Tuesday  Wednesday  \n",
       "member_casual                           \n",
       "casual            25.818409  24.750845  \n",
       "member            12.128743  12.085079  "
      ]
     },
     "execution_count": 35,
     "metadata": {},
     "output_type": "execute_result"
    }
   ],
   "source": [
    "# Create pivot table by weekdays\n",
    "df_pivot_5 = pd.pivot_table(df, values='ride_length_in_minutes', index='member_casual', columns='day_name_of_week',\n",
    "                          aggfunc='mean')\n",
    "df_pivot_5"
   ]
  },
  {
   "cell_type": "code",
   "execution_count": 36,
   "id": "04bcc2f0",
   "metadata": {},
   "outputs": [
    {
     "data": {
      "image/png": "[encoded data removed]",
      "text/plain": [
       "<Figure size 864x432 with 1 Axes>"
      ]
     },
     "metadata": {
      "needs_background": "light"
     },
     "output_type": "display_data"
    }
   ],
   "source": [
    "# Visualization\n",
    "plt.figure(figsize=(12,6))\n",
    "sns.barplot(data=df, x='day_name_of_week', y='ride_length_in_minutes', hue='member_casual', palette='RdPu', ci=None)\n",
    "plt.title('Average of Casual Riders Vs. Average of Annual Members by Weekdays in 2022')\n",
    "plt.xlabel('Weekdays')\n",
    "plt.ylabel('Average');"
   ]
  },
  {
   "cell_type": "markdown",
   "id": "844d3c40",
   "metadata": {},
   "source": [
    "=> The average of ride length of CASUAL RIDERS is higher than ANNUAL MEMBERS by weekdays in 2022"
   ]
  },
  {
   "cell_type": "markdown",
   "id": "c3c5b3ca",
   "metadata": {},
   "source": [
    "**(7) Average of Casual Riders Vs. Average of Annual Members by Months**"
   ]
  },
  {
   "cell_type": "code",
   "execution_count": 37,
   "id": "bf766938",
   "metadata": {},
   "outputs": [
    {
     "data": {
      "text/html": [
       "<div>\n",
       "<style scoped>\n",
       "    .dataframe tbody tr th:only-of-type {\n",
       "        vertical-align: middle;\n",
       "    }\n",
       "\n",
       "    .dataframe tbody tr th {\n",
       "        vertical-align: top;\n",
       "    }\n",
       "\n",
       "    .dataframe thead th {\n",
       "        text-align: right;\n",
       "    }\n",
       "</style>\n",
       "<table border=\"1\" class=\"dataframe\">\n",
       "  <thead>\n",
       "    <tr style=\"text-align: right;\">\n",
       "      <th>month</th>\n",
       "      <th>April</th>\n",
       "      <th>August</th>\n",
       "      <th>December</th>\n",
       "      <th>February</th>\n",
       "      <th>January</th>\n",
       "      <th>July</th>\n",
       "      <th>June</th>\n",
       "      <th>March</th>\n",
       "      <th>May</th>\n",
       "      <th>November</th>\n",
       "      <th>October</th>\n",
       "      <th>September</th>\n",
       "    </tr>\n",
       "    <tr>\n",
       "      <th>member_casual</th>\n",
       "      <th></th>\n",
       "      <th></th>\n",
       "      <th></th>\n",
       "      <th></th>\n",
       "      <th></th>\n",
       "      <th></th>\n",
       "      <th></th>\n",
       "      <th></th>\n",
       "      <th></th>\n",
       "      <th></th>\n",
       "      <th></th>\n",
       "      <th></th>\n",
       "    </tr>\n",
       "  </thead>\n",
       "  <tbody>\n",
       "    <tr>\n",
       "      <th>casual</th>\n",
       "      <td>29.532427</td>\n",
       "      <td>29.310048</td>\n",
       "      <td>22.289564</td>\n",
       "      <td>26.708452</td>\n",
       "      <td>30.377456</td>\n",
       "      <td>29.278088</td>\n",
       "      <td>32.096975</td>\n",
       "      <td>32.622390</td>\n",
       "      <td>30.869611</td>\n",
       "      <td>21.286235</td>\n",
       "      <td>26.387427</td>\n",
       "      <td>27.98517</td>\n",
       "    </tr>\n",
       "    <tr>\n",
       "      <th>member</th>\n",
       "      <td>11.492404</td>\n",
       "      <td>13.384163</td>\n",
       "      <td>10.619487</td>\n",
       "      <td>11.405528</td>\n",
       "      <td>11.981511</td>\n",
       "      <td>13.718340</td>\n",
       "      <td>13.998434</td>\n",
       "      <td>11.958329</td>\n",
       "      <td>13.366677</td>\n",
       "      <td>11.128622</td>\n",
       "      <td>11.958171</td>\n",
       "      <td>12.95014</td>\n",
       "    </tr>\n",
       "  </tbody>\n",
       "</table>\n",
       "</div>"
      ],
      "text/plain": [
       "month              April     August   December   February    January  \\\n",
       "member_casual                                                          \n",
       "casual         29.532427  29.310048  22.289564  26.708452  30.377456   \n",
       "member         11.492404  13.384163  10.619487  11.405528  11.981511   \n",
       "\n",
       "month               July       June      March        May   November  \\\n",
       "member_casual                                                          \n",
       "casual         29.278088  32.096975  32.622390  30.869611  21.286235   \n",
       "member         13.718340  13.998434  11.958329  13.366677  11.128622   \n",
       "\n",
       "month            October  September  \n",
       "member_casual                        \n",
       "casual         26.387427   27.98517  \n",
       "member         11.958171   12.95014  "
      ]
     },
     "execution_count": 37,
     "metadata": {},
     "output_type": "execute_result"
    }
   ],
   "source": [
    "# Create pivot table by months\n",
    "df_pivot_6 = pd.pivot_table(df, values='ride_length_in_minutes', index='member_casual', columns='month',\n",
    "                          aggfunc='mean')\n",
    "df_pivot_6"
   ]
  },
  {
   "cell_type": "code",
   "execution_count": 38,
   "id": "51c53989",
   "metadata": {},
   "outputs": [
    {
     "data": {
      "image/png": "[encoded data removed]",
      "text/plain": [
       "<Figure size 864x432 with 1 Axes>"
      ]
     },
     "metadata": {
      "needs_background": "light"
     },
     "output_type": "display_data"
    }
   ],
   "source": [
    "# Visualization\n",
    "plt.figure(figsize=(12,6))\n",
    "sns.barplot(data=df, x='month', y='ride_length_in_minutes', hue='member_casual', palette='RdPu', ci=None)\n",
    "plt.title('Average of Casual Riders Vs. Average of Annual Members by Months in 2022')\n",
    "plt.xlabel('Months')\n",
    "plt.ylabel('Average');"
   ]
  },
  {
   "cell_type": "markdown",
   "id": "c03f973c",
   "metadata": {},
   "source": [
    "=> The average of ride length of CASUAL RIDERS is higher than ANNUAL MEMBERS by months in 2022"
   ]
  },
  {
   "cell_type": "markdown",
   "id": "f55a6ba7",
   "metadata": {},
   "source": [
    "**(8) Check the relationship between 'month' and 'day_name_of_week'**"
   ]
  },
  {
   "cell_type": "code",
   "execution_count": 39,
   "id": "651ab1f9",
   "metadata": {},
   "outputs": [
    {
     "data": {
      "text/html": [
       "<div>\n",
       "<style scoped>\n",
       "    .dataframe tbody tr th:only-of-type {\n",
       "        vertical-align: middle;\n",
       "    }\n",
       "\n",
       "    .dataframe tbody tr th {\n",
       "        vertical-align: top;\n",
       "    }\n",
       "\n",
       "    .dataframe thead th {\n",
       "        text-align: right;\n",
       "    }\n",
       "</style>\n",
       "<table border=\"1\" class=\"dataframe\">\n",
       "  <thead>\n",
       "    <tr style=\"text-align: right;\">\n",
       "      <th></th>\n",
       "      <th>ride_id</th>\n",
       "      <th>rideable_type</th>\n",
       "      <th>started_at</th>\n",
       "      <th>ended_at</th>\n",
       "      <th>start_lat</th>\n",
       "      <th>start_lng</th>\n",
       "      <th>member_casual</th>\n",
       "      <th>ride_length</th>\n",
       "      <th>ride_length_in_minutes</th>\n",
       "      <th>day_of_week</th>\n",
       "      <th>day_name_of_week</th>\n",
       "      <th>month</th>\n",
       "      <th>hour</th>\n",
       "    </tr>\n",
       "  </thead>\n",
       "  <tbody>\n",
       "    <tr>\n",
       "      <th>0</th>\n",
       "      <td>C2F7DD78E82EC875</td>\n",
       "      <td>electric_bike</td>\n",
       "      <td>2022-01-13 11:59:47</td>\n",
       "      <td>2022-01-13 12:02:44</td>\n",
       "      <td>42.012800</td>\n",
       "      <td>-87.665906</td>\n",
       "      <td>casual</td>\n",
       "      <td>00:02:57</td>\n",
       "      <td>2.95</td>\n",
       "      <td>3</td>\n",
       "      <td>Thursday</td>\n",
       "      <td>January</td>\n",
       "      <td>11</td>\n",
       "    </tr>\n",
       "    <tr>\n",
       "      <th>1</th>\n",
       "      <td>A6CF8980A652D272</td>\n",
       "      <td>electric_bike</td>\n",
       "      <td>2022-01-10 08:41:56</td>\n",
       "      <td>2022-01-10 08:46:17</td>\n",
       "      <td>42.012763</td>\n",
       "      <td>-87.665968</td>\n",
       "      <td>casual</td>\n",
       "      <td>00:04:21</td>\n",
       "      <td>4.35</td>\n",
       "      <td>0</td>\n",
       "      <td>Monday</td>\n",
       "      <td>January</td>\n",
       "      <td>8</td>\n",
       "    </tr>\n",
       "    <tr>\n",
       "      <th>2</th>\n",
       "      <td>BD0F91DFF741C66D</td>\n",
       "      <td>classic_bike</td>\n",
       "      <td>2022-01-25 04:53:40</td>\n",
       "      <td>2022-01-25 04:58:01</td>\n",
       "      <td>41.925602</td>\n",
       "      <td>-87.653708</td>\n",
       "      <td>member</td>\n",
       "      <td>00:04:21</td>\n",
       "      <td>4.35</td>\n",
       "      <td>1</td>\n",
       "      <td>Tuesday</td>\n",
       "      <td>January</td>\n",
       "      <td>4</td>\n",
       "    </tr>\n",
       "  </tbody>\n",
       "</table>\n",
       "</div>"
      ],
      "text/plain": [
       "            ride_id  rideable_type          started_at            ended_at  \\\n",
       "0  C2F7DD78E82EC875  electric_bike 2022-01-13 11:59:47 2022-01-13 12:02:44   \n",
       "1  A6CF8980A652D272  electric_bike 2022-01-10 08:41:56 2022-01-10 08:46:17   \n",
       "2  BD0F91DFF741C66D   classic_bike 2022-01-25 04:53:40 2022-01-25 04:58:01   \n",
       "\n",
       "   start_lat  start_lng member_casual ride_length  ride_length_in_minutes  \\\n",
       "0  42.012800 -87.665906        casual    00:02:57                    2.95   \n",
       "1  42.012763 -87.665968        casual    00:04:21                    4.35   \n",
       "2  41.925602 -87.653708        member    00:04:21                    4.35   \n",
       "\n",
       "   day_of_week day_name_of_week    month  hour  \n",
       "0            3         Thursday  January    11  \n",
       "1            0           Monday  January     8  \n",
       "2            1          Tuesday  January     4  "
      ]
     },
     "execution_count": 39,
     "metadata": {},
     "output_type": "execute_result"
    }
   ],
   "source": [
    "df.head(3)"
   ]
  },
  {
   "cell_type": "code",
   "execution_count": 40,
   "id": "32360ae3",
   "metadata": {},
   "outputs": [
    {
     "data": {
      "text/html": [
       "<div>\n",
       "<style scoped>\n",
       "    .dataframe tbody tr th:only-of-type {\n",
       "        vertical-align: middle;\n",
       "    }\n",
       "\n",
       "    .dataframe tbody tr th {\n",
       "        vertical-align: top;\n",
       "    }\n",
       "\n",
       "    .dataframe thead th {\n",
       "        text-align: right;\n",
       "    }\n",
       "</style>\n",
       "<table border=\"1\" class=\"dataframe\">\n",
       "  <thead>\n",
       "    <tr style=\"text-align: right;\">\n",
       "      <th>day_name_of_week</th>\n",
       "      <th>Friday</th>\n",
       "      <th>Monday</th>\n",
       "      <th>Saturday</th>\n",
       "      <th>Sunday</th>\n",
       "      <th>Thursday</th>\n",
       "      <th>Tuesday</th>\n",
       "      <th>Wednesday</th>\n",
       "    </tr>\n",
       "    <tr>\n",
       "      <th>month</th>\n",
       "      <th></th>\n",
       "      <th></th>\n",
       "      <th></th>\n",
       "      <th></th>\n",
       "      <th></th>\n",
       "      <th></th>\n",
       "      <th></th>\n",
       "    </tr>\n",
       "  </thead>\n",
       "  <tbody>\n",
       "    <tr>\n",
       "      <th>April</th>\n",
       "      <td>52813</td>\n",
       "      <td>45994</td>\n",
       "      <td>74397</td>\n",
       "      <td>44845</td>\n",
       "      <td>55374</td>\n",
       "      <td>54982</td>\n",
       "      <td>42844</td>\n",
       "    </tr>\n",
       "    <tr>\n",
       "      <th>August</th>\n",
       "      <td>115571</td>\n",
       "      <td>104965</td>\n",
       "      <td>118076</td>\n",
       "      <td>91126</td>\n",
       "      <td>99863</td>\n",
       "      <td>128227</td>\n",
       "      <td>128104</td>\n",
       "    </tr>\n",
       "    <tr>\n",
       "      <th>December</th>\n",
       "      <td>26818</td>\n",
       "      <td>23825</td>\n",
       "      <td>24566</td>\n",
       "      <td>17460</td>\n",
       "      <td>35272</td>\n",
       "      <td>28025</td>\n",
       "      <td>25840</td>\n",
       "    </tr>\n",
       "    <tr>\n",
       "      <th>February</th>\n",
       "      <td>14658</td>\n",
       "      <td>22780</td>\n",
       "      <td>12487</td>\n",
       "      <td>15892</td>\n",
       "      <td>13514</td>\n",
       "      <td>19046</td>\n",
       "      <td>17232</td>\n",
       "    </tr>\n",
       "    <tr>\n",
       "      <th>January</th>\n",
       "      <td>13811</td>\n",
       "      <td>15803</td>\n",
       "      <td>14770</td>\n",
       "      <td>11509</td>\n",
       "      <td>16554</td>\n",
       "      <td>16149</td>\n",
       "      <td>15174</td>\n",
       "    </tr>\n",
       "    <tr>\n",
       "      <th>July</th>\n",
       "      <td>118149</td>\n",
       "      <td>93821</td>\n",
       "      <td>164099</td>\n",
       "      <td>137031</td>\n",
       "      <td>108948</td>\n",
       "      <td>98979</td>\n",
       "      <td>102461</td>\n",
       "    </tr>\n",
       "    <tr>\n",
       "      <th>June</th>\n",
       "      <td>113190</td>\n",
       "      <td>83796</td>\n",
       "      <td>114831</td>\n",
       "      <td>114913</td>\n",
       "      <td>131479</td>\n",
       "      <td>93811</td>\n",
       "      <td>117184</td>\n",
       "    </tr>\n",
       "    <tr>\n",
       "      <th>March</th>\n",
       "      <td>27648</td>\n",
       "      <td>43898</td>\n",
       "      <td>34631</td>\n",
       "      <td>38643</td>\n",
       "      <td>44165</td>\n",
       "      <td>44560</td>\n",
       "      <td>50497</td>\n",
       "    </tr>\n",
       "    <tr>\n",
       "      <th>May</th>\n",
       "      <td>74548</td>\n",
       "      <td>109530</td>\n",
       "      <td>97850</td>\n",
       "      <td>104095</td>\n",
       "      <td>85062</td>\n",
       "      <td>94610</td>\n",
       "      <td>69163</td>\n",
       "    </tr>\n",
       "    <tr>\n",
       "      <th>November</th>\n",
       "      <td>44862</td>\n",
       "      <td>42605</td>\n",
       "      <td>32309</td>\n",
       "      <td>33704</td>\n",
       "      <td>57106</td>\n",
       "      <td>61922</td>\n",
       "      <td>65227</td>\n",
       "    </tr>\n",
       "    <tr>\n",
       "      <th>October</th>\n",
       "      <td>71004</td>\n",
       "      <td>85523</td>\n",
       "      <td>110359</td>\n",
       "      <td>95047</td>\n",
       "      <td>71824</td>\n",
       "      <td>55442</td>\n",
       "      <td>69486</td>\n",
       "    </tr>\n",
       "    <tr>\n",
       "      <th>September</th>\n",
       "      <td>128715</td>\n",
       "      <td>78474</td>\n",
       "      <td>118096</td>\n",
       "      <td>71994</td>\n",
       "      <td>122430</td>\n",
       "      <td>86619</td>\n",
       "      <td>95011</td>\n",
       "    </tr>\n",
       "  </tbody>\n",
       "</table>\n",
       "</div>"
      ],
      "text/plain": [
       "day_name_of_week  Friday  Monday  Saturday  Sunday  Thursday  Tuesday  \\\n",
       "month                                                                   \n",
       "April              52813   45994     74397   44845     55374    54982   \n",
       "August            115571  104965    118076   91126     99863   128227   \n",
       "December           26818   23825     24566   17460     35272    28025   \n",
       "February           14658   22780     12487   15892     13514    19046   \n",
       "January            13811   15803     14770   11509     16554    16149   \n",
       "July              118149   93821    164099  137031    108948    98979   \n",
       "June              113190   83796    114831  114913    131479    93811   \n",
       "March              27648   43898     34631   38643     44165    44560   \n",
       "May                74548  109530     97850  104095     85062    94610   \n",
       "November           44862   42605     32309   33704     57106    61922   \n",
       "October            71004   85523    110359   95047     71824    55442   \n",
       "September         128715   78474    118096   71994    122430    86619   \n",
       "\n",
       "day_name_of_week  Wednesday  \n",
       "month                        \n",
       "April                 42844  \n",
       "August               128104  \n",
       "December              25840  \n",
       "February              17232  \n",
       "January               15174  \n",
       "July                 102461  \n",
       "June                 117184  \n",
       "March                 50497  \n",
       "May                   69163  \n",
       "November              65227  \n",
       "October               69486  \n",
       "September             95011  "
      ]
     },
     "execution_count": 40,
     "metadata": {},
     "output_type": "execute_result"
    }
   ],
   "source": [
    "df_pivot_7 = pd.pivot_table(df, values='ride_id', index='month', columns='day_name_of_week',\n",
    "                          aggfunc='count')\n",
    "df_pivot_7"
   ]
  },
  {
   "cell_type": "code",
   "execution_count": 41,
   "id": "b568d77f",
   "metadata": {},
   "outputs": [
    {
     "data": {
      "image/png": "[encoded data removed]",
      "text/plain": [
       "<Figure size 864x576 with 2 Axes>"
      ]
     },
     "metadata": {
      "needs_background": "light"
     },
     "output_type": "display_data"
    }
   ],
   "source": [
    "# Visualization\n",
    "plt.figure(figsize=(12,8))\n",
    "sns.heatmap(df_pivot_7, cmap='GnBu')\n",
    "plt.title('Number of Months Vs. Number of Weekdays in 2022')\n",
    "plt.xlabel('Weekdays')\n",
    "plt.ylabel('Months');"
   ]
  },
  {
   "cell_type": "markdown",
   "id": "340d722a",
   "metadata": {},
   "source": [
    "=> As we can see, the highest number of riders is on Saturdays of July"
   ]
  },
  {
   "cell_type": "markdown",
   "id": "836f0147",
   "metadata": {},
   "source": [
    "**(9) Check the relationship between 'hour' and 'day_name_of_week'**"
   ]
  },
  {
   "cell_type": "code",
   "execution_count": 42,
   "id": "d146eb0c",
   "metadata": {},
   "outputs": [
    {
     "data": {
      "text/html": [
       "<div>\n",
       "<style scoped>\n",
       "    .dataframe tbody tr th:only-of-type {\n",
       "        vertical-align: middle;\n",
       "    }\n",
       "\n",
       "    .dataframe tbody tr th {\n",
       "        vertical-align: top;\n",
       "    }\n",
       "\n",
       "    .dataframe thead th {\n",
       "        text-align: right;\n",
       "    }\n",
       "</style>\n",
       "<table border=\"1\" class=\"dataframe\">\n",
       "  <thead>\n",
       "    <tr style=\"text-align: right;\">\n",
       "      <th>day_name_of_week</th>\n",
       "      <th>Friday</th>\n",
       "      <th>Monday</th>\n",
       "      <th>Saturday</th>\n",
       "      <th>Sunday</th>\n",
       "      <th>Thursday</th>\n",
       "      <th>Tuesday</th>\n",
       "      <th>Wednesday</th>\n",
       "    </tr>\n",
       "    <tr>\n",
       "      <th>hour</th>\n",
       "      <th></th>\n",
       "      <th></th>\n",
       "      <th></th>\n",
       "      <th></th>\n",
       "      <th></th>\n",
       "      <th></th>\n",
       "      <th></th>\n",
       "    </tr>\n",
       "  </thead>\n",
       "  <tbody>\n",
       "    <tr>\n",
       "      <th>0</th>\n",
       "      <td>10337</td>\n",
       "      <td>7392</td>\n",
       "      <td>20929</td>\n",
       "      <td>24618</td>\n",
       "      <td>7391</td>\n",
       "      <td>5735</td>\n",
       "      <td>6149</td>\n",
       "    </tr>\n",
       "    <tr>\n",
       "      <th>1</th>\n",
       "      <td>6057</td>\n",
       "      <td>4130</td>\n",
       "      <td>15678</td>\n",
       "      <td>16489</td>\n",
       "      <td>3817</td>\n",
       "      <td>3016</td>\n",
       "      <td>3153</td>\n",
       "    </tr>\n",
       "    <tr>\n",
       "      <th>2</th>\n",
       "      <td>3453</td>\n",
       "      <td>2670</td>\n",
       "      <td>8961</td>\n",
       "      <td>10867</td>\n",
       "      <td>2167</td>\n",
       "      <td>1745</td>\n",
       "      <td>1717</td>\n",
       "    </tr>\n",
       "    <tr>\n",
       "      <th>3</th>\n",
       "      <td>2202</td>\n",
       "      <td>1946</td>\n",
       "      <td>4927</td>\n",
       "      <td>5999</td>\n",
       "      <td>1541</td>\n",
       "      <td>1291</td>\n",
       "      <td>1261</td>\n",
       "    </tr>\n",
       "    <tr>\n",
       "      <th>4</th>\n",
       "      <td>2189</td>\n",
       "      <td>2223</td>\n",
       "      <td>2643</td>\n",
       "      <td>3658</td>\n",
       "      <td>1881</td>\n",
       "      <td>2096</td>\n",
       "      <td>1871</td>\n",
       "    </tr>\n",
       "    <tr>\n",
       "      <th>5</th>\n",
       "      <td>6696</td>\n",
       "      <td>6913</td>\n",
       "      <td>3444</td>\n",
       "      <td>3718</td>\n",
       "      <td>7536</td>\n",
       "      <td>8343</td>\n",
       "      <td>8069</td>\n",
       "    </tr>\n",
       "    <tr>\n",
       "      <th>6</th>\n",
       "      <td>19676</td>\n",
       "      <td>18926</td>\n",
       "      <td>7489</td>\n",
       "      <td>6602</td>\n",
       "      <td>21956</td>\n",
       "      <td>23653</td>\n",
       "      <td>22379</td>\n",
       "    </tr>\n",
       "    <tr>\n",
       "      <th>7</th>\n",
       "      <td>31940</td>\n",
       "      <td>34427</td>\n",
       "      <td>13924</td>\n",
       "      <td>11014</td>\n",
       "      <td>43575</td>\n",
       "      <td>45740</td>\n",
       "      <td>43411</td>\n",
       "    </tr>\n",
       "    <tr>\n",
       "      <th>8</th>\n",
       "      <td>36374</td>\n",
       "      <td>40702</td>\n",
       "      <td>24568</td>\n",
       "      <td>17578</td>\n",
       "      <td>52127</td>\n",
       "      <td>52006</td>\n",
       "      <td>50938</td>\n",
       "    </tr>\n",
       "    <tr>\n",
       "      <th>9</th>\n",
       "      <td>28246</td>\n",
       "      <td>27960</td>\n",
       "      <td>37506</td>\n",
       "      <td>29310</td>\n",
       "      <td>31974</td>\n",
       "      <td>30298</td>\n",
       "      <td>30843</td>\n",
       "    </tr>\n",
       "    <tr>\n",
       "      <th>10</th>\n",
       "      <td>28755</td>\n",
       "      <td>27430</td>\n",
       "      <td>50279</td>\n",
       "      <td>42793</td>\n",
       "      <td>28082</td>\n",
       "      <td>25757</td>\n",
       "      <td>25704</td>\n",
       "    </tr>\n",
       "    <tr>\n",
       "      <th>11</th>\n",
       "      <td>36804</td>\n",
       "      <td>34143</td>\n",
       "      <td>61964</td>\n",
       "      <td>54283</td>\n",
       "      <td>34161</td>\n",
       "      <td>31064</td>\n",
       "      <td>31384</td>\n",
       "    </tr>\n",
       "    <tr>\n",
       "      <th>12</th>\n",
       "      <td>45260</td>\n",
       "      <td>40822</td>\n",
       "      <td>67722</td>\n",
       "      <td>60569</td>\n",
       "      <td>41734</td>\n",
       "      <td>38078</td>\n",
       "      <td>37519</td>\n",
       "    </tr>\n",
       "    <tr>\n",
       "      <th>13</th>\n",
       "      <td>47099</td>\n",
       "      <td>41649</td>\n",
       "      <td>69127</td>\n",
       "      <td>61949</td>\n",
       "      <td>41379</td>\n",
       "      <td>37964</td>\n",
       "      <td>37254</td>\n",
       "    </tr>\n",
       "    <tr>\n",
       "      <th>14</th>\n",
       "      <td>49396</td>\n",
       "      <td>43320</td>\n",
       "      <td>70699</td>\n",
       "      <td>62973</td>\n",
       "      <td>42288</td>\n",
       "      <td>37744</td>\n",
       "      <td>38546</td>\n",
       "    </tr>\n",
       "    <tr>\n",
       "      <th>15</th>\n",
       "      <td>59437</td>\n",
       "      <td>51039</td>\n",
       "      <td>72546</td>\n",
       "      <td>65954</td>\n",
       "      <td>53121</td>\n",
       "      <td>49332</td>\n",
       "      <td>48347</td>\n",
       "    </tr>\n",
       "    <tr>\n",
       "      <th>16</th>\n",
       "      <td>69527</td>\n",
       "      <td>68212</td>\n",
       "      <td>71172</td>\n",
       "      <td>64337</td>\n",
       "      <td>73412</td>\n",
       "      <td>70904</td>\n",
       "      <td>71930</td>\n",
       "    </tr>\n",
       "    <tr>\n",
       "      <th>17</th>\n",
       "      <td>78001</td>\n",
       "      <td>85476</td>\n",
       "      <td>67246</td>\n",
       "      <td>59438</td>\n",
       "      <td>93780</td>\n",
       "      <td>91634</td>\n",
       "      <td>94018</td>\n",
       "    </tr>\n",
       "    <tr>\n",
       "      <th>18</th>\n",
       "      <td>68839</td>\n",
       "      <td>69998</td>\n",
       "      <td>62246</td>\n",
       "      <td>51534</td>\n",
       "      <td>79402</td>\n",
       "      <td>73109</td>\n",
       "      <td>77050</td>\n",
       "    </tr>\n",
       "    <tr>\n",
       "      <th>19</th>\n",
       "      <td>51664</td>\n",
       "      <td>50020</td>\n",
       "      <td>49991</td>\n",
       "      <td>39540</td>\n",
       "      <td>57618</td>\n",
       "      <td>53287</td>\n",
       "      <td>55620</td>\n",
       "    </tr>\n",
       "    <tr>\n",
       "      <th>20</th>\n",
       "      <td>36755</td>\n",
       "      <td>35346</td>\n",
       "      <td>37185</td>\n",
       "      <td>28820</td>\n",
       "      <td>41129</td>\n",
       "      <td>37002</td>\n",
       "      <td>40432</td>\n",
       "    </tr>\n",
       "    <tr>\n",
       "      <th>21</th>\n",
       "      <td>29611</td>\n",
       "      <td>26657</td>\n",
       "      <td>33447</td>\n",
       "      <td>23169</td>\n",
       "      <td>34361</td>\n",
       "      <td>29710</td>\n",
       "      <td>32407</td>\n",
       "    </tr>\n",
       "    <tr>\n",
       "      <th>22</th>\n",
       "      <td>28485</td>\n",
       "      <td>18551</td>\n",
       "      <td>32802</td>\n",
       "      <td>18935</td>\n",
       "      <td>29367</td>\n",
       "      <td>21061</td>\n",
       "      <td>24330</td>\n",
       "    </tr>\n",
       "    <tr>\n",
       "      <th>23</th>\n",
       "      <td>24984</td>\n",
       "      <td>11062</td>\n",
       "      <td>29976</td>\n",
       "      <td>12112</td>\n",
       "      <td>17792</td>\n",
       "      <td>11803</td>\n",
       "      <td>13891</td>\n",
       "    </tr>\n",
       "  </tbody>\n",
       "</table>\n",
       "</div>"
      ],
      "text/plain": [
       "day_name_of_week  Friday  Monday  Saturday  Sunday  Thursday  Tuesday  \\\n",
       "hour                                                                    \n",
       "0                  10337    7392     20929   24618      7391     5735   \n",
       "1                   6057    4130     15678   16489      3817     3016   \n",
       "2                   3453    2670      8961   10867      2167     1745   \n",
       "3                   2202    1946      4927    5999      1541     1291   \n",
       "4                   2189    2223      2643    3658      1881     2096   \n",
       "5                   6696    6913      3444    3718      7536     8343   \n",
       "6                  19676   18926      7489    6602     21956    23653   \n",
       "7                  31940   34427     13924   11014     43575    45740   \n",
       "8                  36374   40702     24568   17578     52127    52006   \n",
       "9                  28246   27960     37506   29310     31974    30298   \n",
       "10                 28755   27430     50279   42793     28082    25757   \n",
       "11                 36804   34143     61964   54283     34161    31064   \n",
       "12                 45260   40822     67722   60569     41734    38078   \n",
       "13                 47099   41649     69127   61949     41379    37964   \n",
       "14                 49396   43320     70699   62973     42288    37744   \n",
       "15                 59437   51039     72546   65954     53121    49332   \n",
       "16                 69527   68212     71172   64337     73412    70904   \n",
       "17                 78001   85476     67246   59438     93780    91634   \n",
       "18                 68839   69998     62246   51534     79402    73109   \n",
       "19                 51664   50020     49991   39540     57618    53287   \n",
       "20                 36755   35346     37185   28820     41129    37002   \n",
       "21                 29611   26657     33447   23169     34361    29710   \n",
       "22                 28485   18551     32802   18935     29367    21061   \n",
       "23                 24984   11062     29976   12112     17792    11803   \n",
       "\n",
       "day_name_of_week  Wednesday  \n",
       "hour                         \n",
       "0                      6149  \n",
       "1                      3153  \n",
       "2                      1717  \n",
       "3                      1261  \n",
       "4                      1871  \n",
       "5                      8069  \n",
       "6                     22379  \n",
       "7                     43411  \n",
       "8                     50938  \n",
       "9                     30843  \n",
       "10                    25704  \n",
       "11                    31384  \n",
       "12                    37519  \n",
       "13                    37254  \n",
       "14                    38546  \n",
       "15                    48347  \n",
       "16                    71930  \n",
       "17                    94018  \n",
       "18                    77050  \n",
       "19                    55620  \n",
       "20                    40432  \n",
       "21                    32407  \n",
       "22                    24330  \n",
       "23                    13891  "
      ]
     },
     "execution_count": 42,
     "metadata": {},
     "output_type": "execute_result"
    }
   ],
   "source": [
    "df_pivot_8 = pd.pivot_table(df, values='ride_id', index='hour', columns='day_name_of_week',\n",
    "                          aggfunc='count')\n",
    "df_pivot_8"
   ]
  },
  {
   "cell_type": "code",
   "execution_count": 43,
   "id": "722dec40",
   "metadata": {},
   "outputs": [
    {
     "data": {
      "image/png": "[encoded data removed]",
      "text/plain": [
       "<Figure size 720x720 with 2 Axes>"
      ]
     },
     "metadata": {
      "needs_background": "light"
     },
     "output_type": "display_data"
    }
   ],
   "source": [
    "# Visualization\n",
    "plt.figure(figsize=(10,10))\n",
    "sns.heatmap(df_pivot_8, cmap='GnBu')\n",
    "plt.title('Number of Hours Vs. Number of Weekdays in 2022')\n",
    "plt.xlabel('Weekdays')\n",
    "plt.ylabel('Hours');"
   ]
  },
  {
   "cell_type": "markdown",
   "id": "db60b973",
   "metadata": {},
   "source": [
    "The number of riders at between 5pm and 6pm from Monday to Thursday is greater than other weekdays"
   ]
  },
  {
   "cell_type": "code",
   "execution_count": 44,
   "id": "18d03d8a",
   "metadata": {},
   "outputs": [],
   "source": [
    "# Save clean data as a csv file\n",
    "df.to_csv('clean_data.csv')"
   ]
  },
  {
   "cell_type": "markdown",
   "id": "771363f9",
   "metadata": {},
   "source": [
    "## SUMMARY OF ANALYSIS"
   ]
  },
  {
   "cell_type": "markdown",
   "id": "df4c179b",
   "metadata": {},
   "source": [
    "**Questions:**\n",
    "1. How do annual members and casual riders use Cyclistic bikes differently?\n",
    "2. Why would casual riders buy Cyclistic annual memberships?\n",
    "3. How can Cyclistic use digital media to influence casual riders to become members?"
   ]
  },
  {
   "cell_type": "markdown",
   "id": "6677b5c4",
   "metadata": {},
   "source": [
    "**Anwsers:**\n",
    "1. There are differences between annual members and casual riders:\n",
    "- Although the number of annual members is greater than the number of casual riders by hours, months, weekdays, and bike types; the ride length's average of casual riders is much more than the ride length's average of annual members by hours, months, weekdays, and bike types.\n",
    "- The peak time of annual members is on Thurdays at 5pm; the peak time of casual riders is also at 5pm but on Saturdays.\n",
    "- July is the month which has the highest number of casual riders using Cyclistic bikes; August is the month which has the highest number of annual members using Cyclistic bikes.\n",
    "- Casual riders prefer using electric bikes while annual members prefer using classic bikes.\n",
    "\n",
    "2. The reasons casual riders would buy Cyclistic annual memberships are:\n",
    "- They will have good benefits and good prices if they convert into memberships\n",
    "\n",
    "3. Cyclistic can use digital media to influence casual riders to become members by:\n",
    "- Making marketing strategies on the peak time of casual riders which is on Fridays, Saturdays, and Sundays from 3pm to 6pm; the best time is on Saturdays at 5pm.\n",
    "- There are 3 months for attracting casual riders to convert into memberships are June, July, and August.\n",
    "- Making more promotions and ads through the peak time, the peak season, and also the peak month.\n",
    "- The type of bike which needs to focus on is electric bike, which is the one casual riders prefer using."
   ]
  },
  {
   "cell_type": "code",
   "execution_count": 45,
   "id": "93522f94",
   "metadata": {},
   "outputs": [
    {
     "data": {
      "image/png": "[encoded data removed]",
      "text/plain": [
       "<Figure size 1800x720 with 4 Axes>"
      ]
     },
     "metadata": {
      "needs_background": "light"
     },
     "output_type": "display_data"
    }
   ],
   "source": [
    "# Summarizing the Number of Visualizations\n",
    "plt.figure(figsize=(25,10))\n",
    "plt.subplot(2,2,1)\n",
    "sns.countplot(data=df, x='hour', hue='member_casual', palette='RdPu')\n",
    "plt.subplot(2,2,2)\n",
    "sns.countplot(data=df, x='day_name_of_week', hue='member_casual', palette='RdPu')\n",
    "plt.subplot(2,2,3)\n",
    "sns.countplot(data=df, x='month', hue='member_casual', palette='RdPu')\n",
    "plt.subplot(2,2,4)\n",
    "sns.countplot(data=df, x='rideable_type', hue='member_casual', palette='RdPu')\n",
    "plt.show()"
   ]
  },
  {
   "cell_type": "code",
   "execution_count": 46,
   "id": "2ace874a",
   "metadata": {},
   "outputs": [
    {
     "data": {
      "image/png": "[encoded data removed]",
      "text/plain": [
       "<Figure size 1800x720 with 4 Axes>"
      ]
     },
     "metadata": {
      "needs_background": "light"
     },
     "output_type": "display_data"
    }
   ],
   "source": [
    "# Summarizing the Average of Visualizations\n",
    "plt.figure(figsize=(25,10))\n",
    "plt.subplot(2,2,1)\n",
    "sns.barplot(data=df, x='hour', y='ride_length_in_minutes', hue='member_casual', palette='RdPu', ci=None)\n",
    "plt.subplot(2,2,2)\n",
    "sns.barplot(data=df, x='day_name_of_week', y='ride_length_in_minutes', hue='member_casual', palette='RdPu', ci=None)\n",
    "plt.subplot(2,2,3)\n",
    "sns.barplot(data=df, x='month', y='ride_length_in_minutes', hue='member_casual', palette='RdPu', ci=None)\n",
    "plt.subplot(2,2,4)\n",
    "sns.barplot(data=df, x='rideable_type', y='ride_length_in_minutes', hue='member_casual', palette='RdPu', ci=None)\n",
    "plt.show()"
   ]
  },
  {
   "cell_type": "code",
   "execution_count": null,
   "id": "e2a55daa",
   "metadata": {},
   "outputs": [],
   "source": []
  }
 ],
 "metadata": {
  "kernelspec": {
   "display_name": "Python 3",
   "language": "python",
   "name": "python3"
  },
  "language_info": {
   "codemirror_mode": {
    "name": "ipython",
    "version": 3
   },
   "file_extension": ".py",
   "mimetype": "text/x-python",
   "name": "python",
   "nbconvert_exporter": "python",
   "pygments_lexer": "ipython3",
   "version": "3.6.8"
  }
 },
 "nbformat": 4,
 "nbformat_minor": 5
}
