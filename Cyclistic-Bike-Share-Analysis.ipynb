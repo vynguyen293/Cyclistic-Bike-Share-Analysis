{
 "cells": [
  {
   "cell_type": "code",
   "execution_count": 1,
   "id": "dcefe4ec",
   "metadata": {},
   "outputs": [],
   "source": [
    "import pandas as pd\n",
    "import numpy as np\n",
    "import seaborn as sns\n",
    "import matplotlib.pyplot as plt\n",
    "from datetime import datetime\n",
    "\n",
    "import warnings\n",
    "warnings.filterwarnings('ignore')"
   ]
  },
  {
   "cell_type": "markdown",
   "id": "7449dd65",
   "metadata": {},
   "source": [
    "## PREPARE DATA"
   ]
  },
  {
   "cell_type": "code",
   "execution_count": 2,
   "id": "7823b030",
   "metadata": {},
   "outputs": [],
   "source": [
    "import glob\n",
    "import os\n",
    "\n",
    "folder_name = 'dataset'\n",
    "file_type = 'csv'\n",
    "seperator =','\n",
    "df = pd.concat([pd.read_csv(f, sep=seperator) for f in glob.glob(folder_name + \"/*.\"+file_type)], ignore_index=True)"
   ]
  },
  {
   "cell_type": "code",
   "execution_count": null,
   "id": "d25cda35",
   "metadata": {},
   "outputs": [],
   "source": [
    "df.info()"
   ]
  },
  {
   "cell_type": "code",
   "execution_count": null,
   "id": "2ebbea48",
   "metadata": {},
   "outputs": [],
   "source": [
    "df.head()"
   ]
  },
  {
   "cell_type": "code",
   "execution_count": null,
   "id": "71b11d9b",
   "metadata": {},
   "outputs": [],
   "source": [
    "df.tail()"
   ]
  },
  {
   "cell_type": "code",
   "execution_count": null,
   "id": "9e697669",
   "metadata": {
    "scrolled": true
   },
   "outputs": [],
   "source": [
    "print('The dataset has', df.shape[0], 'rows and', df.shape[1], 'columns.')"
   ]
  },
  {
   "cell_type": "markdown",
   "id": "0d8e8cb9",
   "metadata": {},
   "source": [
    "## PROCESS DATA"
   ]
  },
  {
   "cell_type": "code",
   "execution_count": null,
   "id": "d92f1f25",
   "metadata": {},
   "outputs": [],
   "source": [
    "# Check the data for duplicates\n",
    "print('Shape before dropping duplicates', df.shape)\n",
    "df = df.drop_duplicates()\n",
    "print('Shape after dropping duplicates', df.shape)"
   ]
  },
  {
   "cell_type": "markdown",
   "id": "8bfbaa6f",
   "metadata": {},
   "source": [
    "=> The data has no duplicates"
   ]
  },
  {
   "cell_type": "code",
   "execution_count": null,
   "id": "c6456fe8",
   "metadata": {},
   "outputs": [],
   "source": [
    "# Check the data for missing values\n",
    "missing_data = df.isnull()\n",
    "missing_data.head()"
   ]
  },
  {
   "cell_type": "code",
   "execution_count": null,
   "id": "f1f37ce2",
   "metadata": {},
   "outputs": [],
   "source": [
    "for col in missing_data.columns.values.tolist():\n",
    "    print(col)\n",
    "    print(missing_data[col].value_counts())\n",
    "    print('')"
   ]
  },
  {
   "cell_type": "markdown",
   "id": "fe035fc7",
   "metadata": {},
   "source": [
    "=> There are lots of missing values at 6 columns named: **start_station_name, start_station_id, end_station_name, end_station_id, end_lat, end_lng**"
   ]
  },
  {
   "cell_type": "code",
   "execution_count": null,
   "id": "038ef0f1",
   "metadata": {},
   "outputs": [],
   "source": [
    "# Convert string to datetime\n",
    "df['ended_at'] = df['ended_at'].astype('datetime64[ns]')\n",
    "df['started_at'] = df['started_at'].astype('datetime64[ns]')\n",
    "\n",
    "# Create a column called “ride_length”\n",
    "# Calculate the length of each ride by subtracting the column “started_at” from the column “ended_at”\n",
    "df['ride_length'] = df['ended_at'] - df['started_at']"
   ]
  },
  {
   "cell_type": "code",
   "execution_count": null,
   "id": "cef25f75",
   "metadata": {},
   "outputs": [],
   "source": [
    "df.head()"
   ]
  },
  {
   "cell_type": "code",
   "execution_count": null,
   "id": "fee0c7fb",
   "metadata": {},
   "outputs": [],
   "source": [
    "# Create a column called “day_of_week”\n",
    "# Calculate the day of the week that each ride started\n",
    "df['day_of_week'] = df['started_at'].dt.dayofweek"
   ]
  },
  {
   "cell_type": "code",
   "execution_count": null,
   "id": "af84380f",
   "metadata": {},
   "outputs": [],
   "source": [
    "df['day_name_of_week']= df['started_at'].dt.day_name()"
   ]
  },
  {
   "cell_type": "code",
   "execution_count": null,
   "id": "1b560d6d",
   "metadata": {},
   "outputs": [],
   "source": [
    "df.head()"
   ]
  },
  {
   "cell_type": "code",
   "execution_count": null,
   "id": "574fedf9",
   "metadata": {},
   "outputs": [],
   "source": []
  }
 ],
 "metadata": {
  "kernelspec": {
   "display_name": "Python 3",
   "language": "python",
   "name": "python3"
  },
  "language_info": {
   "codemirror_mode": {
    "name": "ipython",
    "version": 3
   },
   "file_extension": ".py",
   "mimetype": "text/x-python",
   "name": "python",
   "nbconvert_exporter": "python",
   "pygments_lexer": "ipython3",
   "version": "3.6.8"
  }
 },
 "nbformat": 4,
 "nbformat_minor": 5
}
